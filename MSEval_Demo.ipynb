{
  "nbformat": 4,
  "nbformat_minor": 0,
  "metadata": {
    "colab": {
      "provenance": []
    },
    "kernelspec": {
      "name": "python3",
      "display_name": "Python 3"
    },
    "language_info": {
      "name": "python"
    },
    "widgets": {
      "application/vnd.jupyter.widget-state+json": {
        "7c591863a27648cabc58308b5625c5c3": {
          "model_module": "@jupyter-widgets/controls",
          "model_name": "HBoxModel",
          "model_module_version": "1.5.0",
          "state": {
            "_dom_classes": [],
            "_model_module": "@jupyter-widgets/controls",
            "_model_module_version": "1.5.0",
            "_model_name": "HBoxModel",
            "_view_count": null,
            "_view_module": "@jupyter-widgets/controls",
            "_view_module_version": "1.5.0",
            "_view_name": "HBoxView",
            "box_style": "",
            "children": [
              "IPY_MODEL_b7766d3d41e54dd9ba3df36ff889393b",
              "IPY_MODEL_2bb3d9657d854f459b373570bb34f808",
              "IPY_MODEL_a1f14b58a2504a5db14d5b69902b39fa"
            ],
            "layout": "IPY_MODEL_facc7eb488584fdbba35ef43ffb99065"
          }
        },
        "b7766d3d41e54dd9ba3df36ff889393b": {
          "model_module": "@jupyter-widgets/controls",
          "model_name": "HTMLModel",
          "model_module_version": "1.5.0",
          "state": {
            "_dom_classes": [],
            "_model_module": "@jupyter-widgets/controls",
            "_model_module_version": "1.5.0",
            "_model_name": "HTMLModel",
            "_view_count": null,
            "_view_module": "@jupyter-widgets/controls",
            "_view_module_version": "1.5.0",
            "_view_name": "HTMLView",
            "description": "",
            "description_tooltip": null,
            "layout": "IPY_MODEL_602eff89a83c407c93e186baa68a99c6",
            "placeholder": "​",
            "style": "IPY_MODEL_f482dc23c9574d5aaf86036105d7c38c",
            "value": "Downloading readme: 100%"
          }
        },
        "2bb3d9657d854f459b373570bb34f808": {
          "model_module": "@jupyter-widgets/controls",
          "model_name": "FloatProgressModel",
          "model_module_version": "1.5.0",
          "state": {
            "_dom_classes": [],
            "_model_module": "@jupyter-widgets/controls",
            "_model_module_version": "1.5.0",
            "_model_name": "FloatProgressModel",
            "_view_count": null,
            "_view_module": "@jupyter-widgets/controls",
            "_view_module_version": "1.5.0",
            "_view_name": "ProgressView",
            "bar_style": "success",
            "description": "",
            "description_tooltip": null,
            "layout": "IPY_MODEL_3d27ef4f04064255b574ebea015c924a",
            "max": 2315,
            "min": 0,
            "orientation": "horizontal",
            "style": "IPY_MODEL_fa900205cdc74a52adfb6a29d55c643d",
            "value": 2315
          }
        },
        "a1f14b58a2504a5db14d5b69902b39fa": {
          "model_module": "@jupyter-widgets/controls",
          "model_name": "HTMLModel",
          "model_module_version": "1.5.0",
          "state": {
            "_dom_classes": [],
            "_model_module": "@jupyter-widgets/controls",
            "_model_module_version": "1.5.0",
            "_model_name": "HTMLModel",
            "_view_count": null,
            "_view_module": "@jupyter-widgets/controls",
            "_view_module_version": "1.5.0",
            "_view_name": "HTMLView",
            "description": "",
            "description_tooltip": null,
            "layout": "IPY_MODEL_357ad13665614bfe93d50df01995809c",
            "placeholder": "​",
            "style": "IPY_MODEL_ec621707d4e54077ad98f5decb51d228",
            "value": " 2.31k/2.31k [00:00&lt;00:00, 19.2kB/s]"
          }
        },
        "facc7eb488584fdbba35ef43ffb99065": {
          "model_module": "@jupyter-widgets/base",
          "model_name": "LayoutModel",
          "model_module_version": "1.2.0",
          "state": {
            "_model_module": "@jupyter-widgets/base",
            "_model_module_version": "1.2.0",
            "_model_name": "LayoutModel",
            "_view_count": null,
            "_view_module": "@jupyter-widgets/base",
            "_view_module_version": "1.2.0",
            "_view_name": "LayoutView",
            "align_content": null,
            "align_items": null,
            "align_self": null,
            "border": null,
            "bottom": null,
            "display": null,
            "flex": null,
            "flex_flow": null,
            "grid_area": null,
            "grid_auto_columns": null,
            "grid_auto_flow": null,
            "grid_auto_rows": null,
            "grid_column": null,
            "grid_gap": null,
            "grid_row": null,
            "grid_template_areas": null,
            "grid_template_columns": null,
            "grid_template_rows": null,
            "height": null,
            "justify_content": null,
            "justify_items": null,
            "left": null,
            "margin": null,
            "max_height": null,
            "max_width": null,
            "min_height": null,
            "min_width": null,
            "object_fit": null,
            "object_position": null,
            "order": null,
            "overflow": null,
            "overflow_x": null,
            "overflow_y": null,
            "padding": null,
            "right": null,
            "top": null,
            "visibility": null,
            "width": null
          }
        },
        "602eff89a83c407c93e186baa68a99c6": {
          "model_module": "@jupyter-widgets/base",
          "model_name": "LayoutModel",
          "model_module_version": "1.2.0",
          "state": {
            "_model_module": "@jupyter-widgets/base",
            "_model_module_version": "1.2.0",
            "_model_name": "LayoutModel",
            "_view_count": null,
            "_view_module": "@jupyter-widgets/base",
            "_view_module_version": "1.2.0",
            "_view_name": "LayoutView",
            "align_content": null,
            "align_items": null,
            "align_self": null,
            "border": null,
            "bottom": null,
            "display": null,
            "flex": null,
            "flex_flow": null,
            "grid_area": null,
            "grid_auto_columns": null,
            "grid_auto_flow": null,
            "grid_auto_rows": null,
            "grid_column": null,
            "grid_gap": null,
            "grid_row": null,
            "grid_template_areas": null,
            "grid_template_columns": null,
            "grid_template_rows": null,
            "height": null,
            "justify_content": null,
            "justify_items": null,
            "left": null,
            "margin": null,
            "max_height": null,
            "max_width": null,
            "min_height": null,
            "min_width": null,
            "object_fit": null,
            "object_position": null,
            "order": null,
            "overflow": null,
            "overflow_x": null,
            "overflow_y": null,
            "padding": null,
            "right": null,
            "top": null,
            "visibility": null,
            "width": null
          }
        },
        "f482dc23c9574d5aaf86036105d7c38c": {
          "model_module": "@jupyter-widgets/controls",
          "model_name": "DescriptionStyleModel",
          "model_module_version": "1.5.0",
          "state": {
            "_model_module": "@jupyter-widgets/controls",
            "_model_module_version": "1.5.0",
            "_model_name": "DescriptionStyleModel",
            "_view_count": null,
            "_view_module": "@jupyter-widgets/base",
            "_view_module_version": "1.2.0",
            "_view_name": "StyleView",
            "description_width": ""
          }
        },
        "3d27ef4f04064255b574ebea015c924a": {
          "model_module": "@jupyter-widgets/base",
          "model_name": "LayoutModel",
          "model_module_version": "1.2.0",
          "state": {
            "_model_module": "@jupyter-widgets/base",
            "_model_module_version": "1.2.0",
            "_model_name": "LayoutModel",
            "_view_count": null,
            "_view_module": "@jupyter-widgets/base",
            "_view_module_version": "1.2.0",
            "_view_name": "LayoutView",
            "align_content": null,
            "align_items": null,
            "align_self": null,
            "border": null,
            "bottom": null,
            "display": null,
            "flex": null,
            "flex_flow": null,
            "grid_area": null,
            "grid_auto_columns": null,
            "grid_auto_flow": null,
            "grid_auto_rows": null,
            "grid_column": null,
            "grid_gap": null,
            "grid_row": null,
            "grid_template_areas": null,
            "grid_template_columns": null,
            "grid_template_rows": null,
            "height": null,
            "justify_content": null,
            "justify_items": null,
            "left": null,
            "margin": null,
            "max_height": null,
            "max_width": null,
            "min_height": null,
            "min_width": null,
            "object_fit": null,
            "object_position": null,
            "order": null,
            "overflow": null,
            "overflow_x": null,
            "overflow_y": null,
            "padding": null,
            "right": null,
            "top": null,
            "visibility": null,
            "width": null
          }
        },
        "fa900205cdc74a52adfb6a29d55c643d": {
          "model_module": "@jupyter-widgets/controls",
          "model_name": "ProgressStyleModel",
          "model_module_version": "1.5.0",
          "state": {
            "_model_module": "@jupyter-widgets/controls",
            "_model_module_version": "1.5.0",
            "_model_name": "ProgressStyleModel",
            "_view_count": null,
            "_view_module": "@jupyter-widgets/base",
            "_view_module_version": "1.2.0",
            "_view_name": "StyleView",
            "bar_color": null,
            "description_width": ""
          }
        },
        "357ad13665614bfe93d50df01995809c": {
          "model_module": "@jupyter-widgets/base",
          "model_name": "LayoutModel",
          "model_module_version": "1.2.0",
          "state": {
            "_model_module": "@jupyter-widgets/base",
            "_model_module_version": "1.2.0",
            "_model_name": "LayoutModel",
            "_view_count": null,
            "_view_module": "@jupyter-widgets/base",
            "_view_module_version": "1.2.0",
            "_view_name": "LayoutView",
            "align_content": null,
            "align_items": null,
            "align_self": null,
            "border": null,
            "bottom": null,
            "display": null,
            "flex": null,
            "flex_flow": null,
            "grid_area": null,
            "grid_auto_columns": null,
            "grid_auto_flow": null,
            "grid_auto_rows": null,
            "grid_column": null,
            "grid_gap": null,
            "grid_row": null,
            "grid_template_areas": null,
            "grid_template_columns": null,
            "grid_template_rows": null,
            "height": null,
            "justify_content": null,
            "justify_items": null,
            "left": null,
            "margin": null,
            "max_height": null,
            "max_width": null,
            "min_height": null,
            "min_width": null,
            "object_fit": null,
            "object_position": null,
            "order": null,
            "overflow": null,
            "overflow_x": null,
            "overflow_y": null,
            "padding": null,
            "right": null,
            "top": null,
            "visibility": null,
            "width": null
          }
        },
        "ec621707d4e54077ad98f5decb51d228": {
          "model_module": "@jupyter-widgets/controls",
          "model_name": "DescriptionStyleModel",
          "model_module_version": "1.5.0",
          "state": {
            "_model_module": "@jupyter-widgets/controls",
            "_model_module_version": "1.5.0",
            "_model_name": "DescriptionStyleModel",
            "_view_count": null,
            "_view_module": "@jupyter-widgets/base",
            "_view_module_version": "1.2.0",
            "_view_name": "StyleView",
            "description_width": ""
          }
        },
        "359cbf44ea4a4a888c057080a57c276f": {
          "model_module": "@jupyter-widgets/controls",
          "model_name": "HBoxModel",
          "model_module_version": "1.5.0",
          "state": {
            "_dom_classes": [],
            "_model_module": "@jupyter-widgets/controls",
            "_model_module_version": "1.5.0",
            "_model_name": "HBoxModel",
            "_view_count": null,
            "_view_module": "@jupyter-widgets/controls",
            "_view_module_version": "1.5.0",
            "_view_name": "HBoxView",
            "box_style": "",
            "children": [
              "IPY_MODEL_61eeb55f0ca04b1aac0a6f31c1513dae",
              "IPY_MODEL_607a0d6e3cc746619f0862be86174543",
              "IPY_MODEL_c3b009572e894c498be7761d3d43a198"
            ],
            "layout": "IPY_MODEL_6a044cd055484732897016c32bd468b9"
          }
        },
        "61eeb55f0ca04b1aac0a6f31c1513dae": {
          "model_module": "@jupyter-widgets/controls",
          "model_name": "HTMLModel",
          "model_module_version": "1.5.0",
          "state": {
            "_dom_classes": [],
            "_model_module": "@jupyter-widgets/controls",
            "_model_module_version": "1.5.0",
            "_model_name": "HTMLModel",
            "_view_count": null,
            "_view_module": "@jupyter-widgets/controls",
            "_view_module_version": "1.5.0",
            "_view_name": "HTMLView",
            "description": "",
            "description_tooltip": null,
            "layout": "IPY_MODEL_bb73e7d8104949dbb07c2b8214bb67d9",
            "placeholder": "​",
            "style": "IPY_MODEL_bc0beaf7ee66494fb717840a65b88cc5",
            "value": "Downloading data: 100%"
          }
        },
        "607a0d6e3cc746619f0862be86174543": {
          "model_module": "@jupyter-widgets/controls",
          "model_name": "FloatProgressModel",
          "model_module_version": "1.5.0",
          "state": {
            "_dom_classes": [],
            "_model_module": "@jupyter-widgets/controls",
            "_model_module_version": "1.5.0",
            "_model_name": "FloatProgressModel",
            "_view_count": null,
            "_view_module": "@jupyter-widgets/controls",
            "_view_module_version": "1.5.0",
            "_view_name": "ProgressView",
            "bar_style": "success",
            "description": "",
            "description_tooltip": null,
            "layout": "IPY_MODEL_dcde8c4a33284d7581d08d8c18ab426a",
            "max": 22625,
            "min": 0,
            "orientation": "horizontal",
            "style": "IPY_MODEL_79dc5ebdf39e4c879ef845d94349bea5",
            "value": 22625
          }
        },
        "c3b009572e894c498be7761d3d43a198": {
          "model_module": "@jupyter-widgets/controls",
          "model_name": "HTMLModel",
          "model_module_version": "1.5.0",
          "state": {
            "_dom_classes": [],
            "_model_module": "@jupyter-widgets/controls",
            "_model_module_version": "1.5.0",
            "_model_name": "HTMLModel",
            "_view_count": null,
            "_view_module": "@jupyter-widgets/controls",
            "_view_module_version": "1.5.0",
            "_view_name": "HTMLView",
            "description": "",
            "description_tooltip": null,
            "layout": "IPY_MODEL_8f0f079f488e4633b0c9dbfd3df995df",
            "placeholder": "​",
            "style": "IPY_MODEL_aed516f8b4c84a4aa92f01a295a73958",
            "value": " 22.6k/22.6k [00:00&lt;00:00, 213kB/s]"
          }
        },
        "6a044cd055484732897016c32bd468b9": {
          "model_module": "@jupyter-widgets/base",
          "model_name": "LayoutModel",
          "model_module_version": "1.2.0",
          "state": {
            "_model_module": "@jupyter-widgets/base",
            "_model_module_version": "1.2.0",
            "_model_name": "LayoutModel",
            "_view_count": null,
            "_view_module": "@jupyter-widgets/base",
            "_view_module_version": "1.2.0",
            "_view_name": "LayoutView",
            "align_content": null,
            "align_items": null,
            "align_self": null,
            "border": null,
            "bottom": null,
            "display": null,
            "flex": null,
            "flex_flow": null,
            "grid_area": null,
            "grid_auto_columns": null,
            "grid_auto_flow": null,
            "grid_auto_rows": null,
            "grid_column": null,
            "grid_gap": null,
            "grid_row": null,
            "grid_template_areas": null,
            "grid_template_columns": null,
            "grid_template_rows": null,
            "height": null,
            "justify_content": null,
            "justify_items": null,
            "left": null,
            "margin": null,
            "max_height": null,
            "max_width": null,
            "min_height": null,
            "min_width": null,
            "object_fit": null,
            "object_position": null,
            "order": null,
            "overflow": null,
            "overflow_x": null,
            "overflow_y": null,
            "padding": null,
            "right": null,
            "top": null,
            "visibility": null,
            "width": null
          }
        },
        "bb73e7d8104949dbb07c2b8214bb67d9": {
          "model_module": "@jupyter-widgets/base",
          "model_name": "LayoutModel",
          "model_module_version": "1.2.0",
          "state": {
            "_model_module": "@jupyter-widgets/base",
            "_model_module_version": "1.2.0",
            "_model_name": "LayoutModel",
            "_view_count": null,
            "_view_module": "@jupyter-widgets/base",
            "_view_module_version": "1.2.0",
            "_view_name": "LayoutView",
            "align_content": null,
            "align_items": null,
            "align_self": null,
            "border": null,
            "bottom": null,
            "display": null,
            "flex": null,
            "flex_flow": null,
            "grid_area": null,
            "grid_auto_columns": null,
            "grid_auto_flow": null,
            "grid_auto_rows": null,
            "grid_column": null,
            "grid_gap": null,
            "grid_row": null,
            "grid_template_areas": null,
            "grid_template_columns": null,
            "grid_template_rows": null,
            "height": null,
            "justify_content": null,
            "justify_items": null,
            "left": null,
            "margin": null,
            "max_height": null,
            "max_width": null,
            "min_height": null,
            "min_width": null,
            "object_fit": null,
            "object_position": null,
            "order": null,
            "overflow": null,
            "overflow_x": null,
            "overflow_y": null,
            "padding": null,
            "right": null,
            "top": null,
            "visibility": null,
            "width": null
          }
        },
        "bc0beaf7ee66494fb717840a65b88cc5": {
          "model_module": "@jupyter-widgets/controls",
          "model_name": "DescriptionStyleModel",
          "model_module_version": "1.5.0",
          "state": {
            "_model_module": "@jupyter-widgets/controls",
            "_model_module_version": "1.5.0",
            "_model_name": "DescriptionStyleModel",
            "_view_count": null,
            "_view_module": "@jupyter-widgets/base",
            "_view_module_version": "1.2.0",
            "_view_name": "StyleView",
            "description_width": ""
          }
        },
        "dcde8c4a33284d7581d08d8c18ab426a": {
          "model_module": "@jupyter-widgets/base",
          "model_name": "LayoutModel",
          "model_module_version": "1.2.0",
          "state": {
            "_model_module": "@jupyter-widgets/base",
            "_model_module_version": "1.2.0",
            "_model_name": "LayoutModel",
            "_view_count": null,
            "_view_module": "@jupyter-widgets/base",
            "_view_module_version": "1.2.0",
            "_view_name": "LayoutView",
            "align_content": null,
            "align_items": null,
            "align_self": null,
            "border": null,
            "bottom": null,
            "display": null,
            "flex": null,
            "flex_flow": null,
            "grid_area": null,
            "grid_auto_columns": null,
            "grid_auto_flow": null,
            "grid_auto_rows": null,
            "grid_column": null,
            "grid_gap": null,
            "grid_row": null,
            "grid_template_areas": null,
            "grid_template_columns": null,
            "grid_template_rows": null,
            "height": null,
            "justify_content": null,
            "justify_items": null,
            "left": null,
            "margin": null,
            "max_height": null,
            "max_width": null,
            "min_height": null,
            "min_width": null,
            "object_fit": null,
            "object_position": null,
            "order": null,
            "overflow": null,
            "overflow_x": null,
            "overflow_y": null,
            "padding": null,
            "right": null,
            "top": null,
            "visibility": null,
            "width": null
          }
        },
        "79dc5ebdf39e4c879ef845d94349bea5": {
          "model_module": "@jupyter-widgets/controls",
          "model_name": "ProgressStyleModel",
          "model_module_version": "1.5.0",
          "state": {
            "_model_module": "@jupyter-widgets/controls",
            "_model_module_version": "1.5.0",
            "_model_name": "ProgressStyleModel",
            "_view_count": null,
            "_view_module": "@jupyter-widgets/base",
            "_view_module_version": "1.2.0",
            "_view_name": "StyleView",
            "bar_color": null,
            "description_width": ""
          }
        },
        "8f0f079f488e4633b0c9dbfd3df995df": {
          "model_module": "@jupyter-widgets/base",
          "model_name": "LayoutModel",
          "model_module_version": "1.2.0",
          "state": {
            "_model_module": "@jupyter-widgets/base",
            "_model_module_version": "1.2.0",
            "_model_name": "LayoutModel",
            "_view_count": null,
            "_view_module": "@jupyter-widgets/base",
            "_view_module_version": "1.2.0",
            "_view_name": "LayoutView",
            "align_content": null,
            "align_items": null,
            "align_self": null,
            "border": null,
            "bottom": null,
            "display": null,
            "flex": null,
            "flex_flow": null,
            "grid_area": null,
            "grid_auto_columns": null,
            "grid_auto_flow": null,
            "grid_auto_rows": null,
            "grid_column": null,
            "grid_gap": null,
            "grid_row": null,
            "grid_template_areas": null,
            "grid_template_columns": null,
            "grid_template_rows": null,
            "height": null,
            "justify_content": null,
            "justify_items": null,
            "left": null,
            "margin": null,
            "max_height": null,
            "max_width": null,
            "min_height": null,
            "min_width": null,
            "object_fit": null,
            "object_position": null,
            "order": null,
            "overflow": null,
            "overflow_x": null,
            "overflow_y": null,
            "padding": null,
            "right": null,
            "top": null,
            "visibility": null,
            "width": null
          }
        },
        "aed516f8b4c84a4aa92f01a295a73958": {
          "model_module": "@jupyter-widgets/controls",
          "model_name": "DescriptionStyleModel",
          "model_module_version": "1.5.0",
          "state": {
            "_model_module": "@jupyter-widgets/controls",
            "_model_module_version": "1.5.0",
            "_model_name": "DescriptionStyleModel",
            "_view_count": null,
            "_view_module": "@jupyter-widgets/base",
            "_view_module_version": "1.2.0",
            "_view_name": "StyleView",
            "description_width": ""
          }
        },
        "2fdcaaef1a70411ca3aca43700bcb0d8": {
          "model_module": "@jupyter-widgets/controls",
          "model_name": "HBoxModel",
          "model_module_version": "1.5.0",
          "state": {
            "_dom_classes": [],
            "_model_module": "@jupyter-widgets/controls",
            "_model_module_version": "1.5.0",
            "_model_name": "HBoxModel",
            "_view_count": null,
            "_view_module": "@jupyter-widgets/controls",
            "_view_module_version": "1.5.0",
            "_view_name": "HBoxView",
            "box_style": "",
            "children": [
              "IPY_MODEL_6e9944b9a13642439af6161b580aadf0",
              "IPY_MODEL_db49a01969a743b889179bd00e82b9a8",
              "IPY_MODEL_7ceb8c57d9f84f3097365500a2e6a938"
            ],
            "layout": "IPY_MODEL_74608b234ddc448091b154f490269522"
          }
        },
        "6e9944b9a13642439af6161b580aadf0": {
          "model_module": "@jupyter-widgets/controls",
          "model_name": "HTMLModel",
          "model_module_version": "1.5.0",
          "state": {
            "_dom_classes": [],
            "_model_module": "@jupyter-widgets/controls",
            "_model_module_version": "1.5.0",
            "_model_name": "HTMLModel",
            "_view_count": null,
            "_view_module": "@jupyter-widgets/controls",
            "_view_module_version": "1.5.0",
            "_view_name": "HTMLView",
            "description": "",
            "description_tooltip": null,
            "layout": "IPY_MODEL_fe2211c4b89d449f978dc5dd48a4c38c",
            "placeholder": "​",
            "style": "IPY_MODEL_9678f2cdc4d14809b6d176d363983e6f",
            "value": "Generating train split: 100%"
          }
        },
        "db49a01969a743b889179bd00e82b9a8": {
          "model_module": "@jupyter-widgets/controls",
          "model_name": "FloatProgressModel",
          "model_module_version": "1.5.0",
          "state": {
            "_dom_classes": [],
            "_model_module": "@jupyter-widgets/controls",
            "_model_module_version": "1.5.0",
            "_model_name": "FloatProgressModel",
            "_view_count": null,
            "_view_module": "@jupyter-widgets/controls",
            "_view_module_version": "1.5.0",
            "_view_name": "ProgressView",
            "bar_style": "success",
            "description": "",
            "description_tooltip": null,
            "layout": "IPY_MODEL_4540fd16824649709f25f3c652f2f0c3",
            "max": 67,
            "min": 0,
            "orientation": "horizontal",
            "style": "IPY_MODEL_224a2220007e4125a5d5e9511935ade2",
            "value": 67
          }
        },
        "7ceb8c57d9f84f3097365500a2e6a938": {
          "model_module": "@jupyter-widgets/controls",
          "model_name": "HTMLModel",
          "model_module_version": "1.5.0",
          "state": {
            "_dom_classes": [],
            "_model_module": "@jupyter-widgets/controls",
            "_model_module_version": "1.5.0",
            "_model_name": "HTMLModel",
            "_view_count": null,
            "_view_module": "@jupyter-widgets/controls",
            "_view_module_version": "1.5.0",
            "_view_name": "HTMLView",
            "description": "",
            "description_tooltip": null,
            "layout": "IPY_MODEL_14a5baa0548243888fb93d2b6e778637",
            "placeholder": "​",
            "style": "IPY_MODEL_ffcd021b85744c0dabc18e32cfba18c0",
            "value": " 67/67 [00:00&lt;00:00, 348.92 examples/s]"
          }
        },
        "74608b234ddc448091b154f490269522": {
          "model_module": "@jupyter-widgets/base",
          "model_name": "LayoutModel",
          "model_module_version": "1.2.0",
          "state": {
            "_model_module": "@jupyter-widgets/base",
            "_model_module_version": "1.2.0",
            "_model_name": "LayoutModel",
            "_view_count": null,
            "_view_module": "@jupyter-widgets/base",
            "_view_module_version": "1.2.0",
            "_view_name": "LayoutView",
            "align_content": null,
            "align_items": null,
            "align_self": null,
            "border": null,
            "bottom": null,
            "display": null,
            "flex": null,
            "flex_flow": null,
            "grid_area": null,
            "grid_auto_columns": null,
            "grid_auto_flow": null,
            "grid_auto_rows": null,
            "grid_column": null,
            "grid_gap": null,
            "grid_row": null,
            "grid_template_areas": null,
            "grid_template_columns": null,
            "grid_template_rows": null,
            "height": null,
            "justify_content": null,
            "justify_items": null,
            "left": null,
            "margin": null,
            "max_height": null,
            "max_width": null,
            "min_height": null,
            "min_width": null,
            "object_fit": null,
            "object_position": null,
            "order": null,
            "overflow": null,
            "overflow_x": null,
            "overflow_y": null,
            "padding": null,
            "right": null,
            "top": null,
            "visibility": null,
            "width": null
          }
        },
        "fe2211c4b89d449f978dc5dd48a4c38c": {
          "model_module": "@jupyter-widgets/base",
          "model_name": "LayoutModel",
          "model_module_version": "1.2.0",
          "state": {
            "_model_module": "@jupyter-widgets/base",
            "_model_module_version": "1.2.0",
            "_model_name": "LayoutModel",
            "_view_count": null,
            "_view_module": "@jupyter-widgets/base",
            "_view_module_version": "1.2.0",
            "_view_name": "LayoutView",
            "align_content": null,
            "align_items": null,
            "align_self": null,
            "border": null,
            "bottom": null,
            "display": null,
            "flex": null,
            "flex_flow": null,
            "grid_area": null,
            "grid_auto_columns": null,
            "grid_auto_flow": null,
            "grid_auto_rows": null,
            "grid_column": null,
            "grid_gap": null,
            "grid_row": null,
            "grid_template_areas": null,
            "grid_template_columns": null,
            "grid_template_rows": null,
            "height": null,
            "justify_content": null,
            "justify_items": null,
            "left": null,
            "margin": null,
            "max_height": null,
            "max_width": null,
            "min_height": null,
            "min_width": null,
            "object_fit": null,
            "object_position": null,
            "order": null,
            "overflow": null,
            "overflow_x": null,
            "overflow_y": null,
            "padding": null,
            "right": null,
            "top": null,
            "visibility": null,
            "width": null
          }
        },
        "9678f2cdc4d14809b6d176d363983e6f": {
          "model_module": "@jupyter-widgets/controls",
          "model_name": "DescriptionStyleModel",
          "model_module_version": "1.5.0",
          "state": {
            "_model_module": "@jupyter-widgets/controls",
            "_model_module_version": "1.5.0",
            "_model_name": "DescriptionStyleModel",
            "_view_count": null,
            "_view_module": "@jupyter-widgets/base",
            "_view_module_version": "1.2.0",
            "_view_name": "StyleView",
            "description_width": ""
          }
        },
        "4540fd16824649709f25f3c652f2f0c3": {
          "model_module": "@jupyter-widgets/base",
          "model_name": "LayoutModel",
          "model_module_version": "1.2.0",
          "state": {
            "_model_module": "@jupyter-widgets/base",
            "_model_module_version": "1.2.0",
            "_model_name": "LayoutModel",
            "_view_count": null,
            "_view_module": "@jupyter-widgets/base",
            "_view_module_version": "1.2.0",
            "_view_name": "LayoutView",
            "align_content": null,
            "align_items": null,
            "align_self": null,
            "border": null,
            "bottom": null,
            "display": null,
            "flex": null,
            "flex_flow": null,
            "grid_area": null,
            "grid_auto_columns": null,
            "grid_auto_flow": null,
            "grid_auto_rows": null,
            "grid_column": null,
            "grid_gap": null,
            "grid_row": null,
            "grid_template_areas": null,
            "grid_template_columns": null,
            "grid_template_rows": null,
            "height": null,
            "justify_content": null,
            "justify_items": null,
            "left": null,
            "margin": null,
            "max_height": null,
            "max_width": null,
            "min_height": null,
            "min_width": null,
            "object_fit": null,
            "object_position": null,
            "order": null,
            "overflow": null,
            "overflow_x": null,
            "overflow_y": null,
            "padding": null,
            "right": null,
            "top": null,
            "visibility": null,
            "width": null
          }
        },
        "224a2220007e4125a5d5e9511935ade2": {
          "model_module": "@jupyter-widgets/controls",
          "model_name": "ProgressStyleModel",
          "model_module_version": "1.5.0",
          "state": {
            "_model_module": "@jupyter-widgets/controls",
            "_model_module_version": "1.5.0",
            "_model_name": "ProgressStyleModel",
            "_view_count": null,
            "_view_module": "@jupyter-widgets/base",
            "_view_module_version": "1.2.0",
            "_view_name": "StyleView",
            "bar_color": null,
            "description_width": ""
          }
        },
        "14a5baa0548243888fb93d2b6e778637": {
          "model_module": "@jupyter-widgets/base",
          "model_name": "LayoutModel",
          "model_module_version": "1.2.0",
          "state": {
            "_model_module": "@jupyter-widgets/base",
            "_model_module_version": "1.2.0",
            "_model_name": "LayoutModel",
            "_view_count": null,
            "_view_module": "@jupyter-widgets/base",
            "_view_module_version": "1.2.0",
            "_view_name": "LayoutView",
            "align_content": null,
            "align_items": null,
            "align_self": null,
            "border": null,
            "bottom": null,
            "display": null,
            "flex": null,
            "flex_flow": null,
            "grid_area": null,
            "grid_auto_columns": null,
            "grid_auto_flow": null,
            "grid_auto_rows": null,
            "grid_column": null,
            "grid_gap": null,
            "grid_row": null,
            "grid_template_areas": null,
            "grid_template_columns": null,
            "grid_template_rows": null,
            "height": null,
            "justify_content": null,
            "justify_items": null,
            "left": null,
            "margin": null,
            "max_height": null,
            "max_width": null,
            "min_height": null,
            "min_width": null,
            "object_fit": null,
            "object_position": null,
            "order": null,
            "overflow": null,
            "overflow_x": null,
            "overflow_y": null,
            "padding": null,
            "right": null,
            "top": null,
            "visibility": null,
            "width": null
          }
        },
        "ffcd021b85744c0dabc18e32cfba18c0": {
          "model_module": "@jupyter-widgets/controls",
          "model_name": "DescriptionStyleModel",
          "model_module_version": "1.5.0",
          "state": {
            "_model_module": "@jupyter-widgets/controls",
            "_model_module_version": "1.5.0",
            "_model_name": "DescriptionStyleModel",
            "_view_count": null,
            "_view_module": "@jupyter-widgets/base",
            "_view_module_version": "1.2.0",
            "_view_name": "StyleView",
            "description_width": ""
          }
        }
      }
    }
  },
  "cells": [
    {
      "cell_type": "markdown",
      "source": [
        "Install necessary dependencies"
      ],
      "metadata": {
        "id": "F9HLmchjqMT2"
      }
    },
    {
      "cell_type": "code",
      "source": [
        "!pip install datasets"
      ],
      "metadata": {
        "colab": {
          "base_uri": "https://localhost:8080/"
        },
        "collapsed": true,
        "id": "ZZ725WS6UcZM",
        "outputId": "73ae09ac-0942-4e35-e8e4-c14d10466165"
      },
      "execution_count": 1,
      "outputs": [
        {
          "output_type": "stream",
          "name": "stdout",
          "text": [
            "Collecting datasets\n",
            "  Downloading datasets-2.21.0-py3-none-any.whl.metadata (21 kB)\n",
            "Requirement already satisfied: filelock in /usr/local/lib/python3.10/dist-packages (from datasets) (3.15.4)\n",
            "Requirement already satisfied: numpy>=1.17 in /usr/local/lib/python3.10/dist-packages (from datasets) (1.26.4)\n",
            "Collecting pyarrow>=15.0.0 (from datasets)\n",
            "  Downloading pyarrow-17.0.0-cp310-cp310-manylinux_2_28_x86_64.whl.metadata (3.3 kB)\n",
            "Collecting dill<0.3.9,>=0.3.0 (from datasets)\n",
            "  Downloading dill-0.3.8-py3-none-any.whl.metadata (10 kB)\n",
            "Requirement already satisfied: pandas in /usr/local/lib/python3.10/dist-packages (from datasets) (2.1.4)\n",
            "Requirement already satisfied: requests>=2.32.2 in /usr/local/lib/python3.10/dist-packages (from datasets) (2.32.3)\n",
            "Requirement already satisfied: tqdm>=4.66.3 in /usr/local/lib/python3.10/dist-packages (from datasets) (4.66.5)\n",
            "Collecting xxhash (from datasets)\n",
            "  Downloading xxhash-3.5.0-cp310-cp310-manylinux_2_17_x86_64.manylinux2014_x86_64.whl.metadata (12 kB)\n",
            "Collecting multiprocess (from datasets)\n",
            "  Downloading multiprocess-0.70.16-py310-none-any.whl.metadata (7.2 kB)\n",
            "Requirement already satisfied: fsspec<=2024.6.1,>=2023.1.0 in /usr/local/lib/python3.10/dist-packages (from fsspec[http]<=2024.6.1,>=2023.1.0->datasets) (2024.6.1)\n",
            "Requirement already satisfied: aiohttp in /usr/local/lib/python3.10/dist-packages (from datasets) (3.10.5)\n",
            "Requirement already satisfied: huggingface-hub>=0.21.2 in /usr/local/lib/python3.10/dist-packages (from datasets) (0.23.5)\n",
            "Requirement already satisfied: packaging in /usr/local/lib/python3.10/dist-packages (from datasets) (24.1)\n",
            "Requirement already satisfied: pyyaml>=5.1 in /usr/local/lib/python3.10/dist-packages (from datasets) (6.0.2)\n",
            "Requirement already satisfied: aiohappyeyeballs>=2.3.0 in /usr/local/lib/python3.10/dist-packages (from aiohttp->datasets) (2.4.0)\n",
            "Requirement already satisfied: aiosignal>=1.1.2 in /usr/local/lib/python3.10/dist-packages (from aiohttp->datasets) (1.3.1)\n",
            "Requirement already satisfied: attrs>=17.3.0 in /usr/local/lib/python3.10/dist-packages (from aiohttp->datasets) (24.2.0)\n",
            "Requirement already satisfied: frozenlist>=1.1.1 in /usr/local/lib/python3.10/dist-packages (from aiohttp->datasets) (1.4.1)\n",
            "Requirement already satisfied: multidict<7.0,>=4.5 in /usr/local/lib/python3.10/dist-packages (from aiohttp->datasets) (6.0.5)\n",
            "Requirement already satisfied: yarl<2.0,>=1.0 in /usr/local/lib/python3.10/dist-packages (from aiohttp->datasets) (1.9.4)\n",
            "Requirement already satisfied: async-timeout<5.0,>=4.0 in /usr/local/lib/python3.10/dist-packages (from aiohttp->datasets) (4.0.3)\n",
            "Requirement already satisfied: typing-extensions>=3.7.4.3 in /usr/local/lib/python3.10/dist-packages (from huggingface-hub>=0.21.2->datasets) (4.12.2)\n",
            "Requirement already satisfied: charset-normalizer<4,>=2 in /usr/local/lib/python3.10/dist-packages (from requests>=2.32.2->datasets) (3.3.2)\n",
            "Requirement already satisfied: idna<4,>=2.5 in /usr/local/lib/python3.10/dist-packages (from requests>=2.32.2->datasets) (3.8)\n",
            "Requirement already satisfied: urllib3<3,>=1.21.1 in /usr/local/lib/python3.10/dist-packages (from requests>=2.32.2->datasets) (2.0.7)\n",
            "Requirement already satisfied: certifi>=2017.4.17 in /usr/local/lib/python3.10/dist-packages (from requests>=2.32.2->datasets) (2024.7.4)\n",
            "Requirement already satisfied: python-dateutil>=2.8.2 in /usr/local/lib/python3.10/dist-packages (from pandas->datasets) (2.8.2)\n",
            "Requirement already satisfied: pytz>=2020.1 in /usr/local/lib/python3.10/dist-packages (from pandas->datasets) (2024.1)\n",
            "Requirement already satisfied: tzdata>=2022.1 in /usr/local/lib/python3.10/dist-packages (from pandas->datasets) (2024.1)\n",
            "Requirement already satisfied: six>=1.5 in /usr/local/lib/python3.10/dist-packages (from python-dateutil>=2.8.2->pandas->datasets) (1.16.0)\n",
            "Downloading datasets-2.21.0-py3-none-any.whl (527 kB)\n",
            "\u001b[2K   \u001b[90m━━━━━━━━━━━━━━━━━━━━━━━━━━━━━━━━━━━━━━━━\u001b[0m \u001b[32m527.3/527.3 kB\u001b[0m \u001b[31m3.8 MB/s\u001b[0m eta \u001b[36m0:00:00\u001b[0m\n",
            "\u001b[?25hDownloading dill-0.3.8-py3-none-any.whl (116 kB)\n",
            "\u001b[2K   \u001b[90m━━━━━━━━━━━━━━━━━━━━━━━━━━━━━━━━━━━━━━━━\u001b[0m \u001b[32m116.3/116.3 kB\u001b[0m \u001b[31m4.6 MB/s\u001b[0m eta \u001b[36m0:00:00\u001b[0m\n",
            "\u001b[?25hDownloading pyarrow-17.0.0-cp310-cp310-manylinux_2_28_x86_64.whl (39.9 MB)\n",
            "\u001b[2K   \u001b[90m━━━━━━━━━━━━━━━━━━━━━━━━━━━━━━━━━━━━━━━━\u001b[0m \u001b[32m39.9/39.9 MB\u001b[0m \u001b[31m10.1 MB/s\u001b[0m eta \u001b[36m0:00:00\u001b[0m\n",
            "\u001b[?25hDownloading multiprocess-0.70.16-py310-none-any.whl (134 kB)\n",
            "\u001b[2K   \u001b[90m━━━━━━━━━━━━━━━━━━━━━━━━━━━━━━━━━━━━━━━━\u001b[0m \u001b[32m134.8/134.8 kB\u001b[0m \u001b[31m6.4 MB/s\u001b[0m eta \u001b[36m0:00:00\u001b[0m\n",
            "\u001b[?25hDownloading xxhash-3.5.0-cp310-cp310-manylinux_2_17_x86_64.manylinux2014_x86_64.whl (194 kB)\n",
            "\u001b[2K   \u001b[90m━━━━━━━━━━━━━━━━━━━━━━━━━━━━━━━━━━━━━━━━\u001b[0m \u001b[32m194.1/194.1 kB\u001b[0m \u001b[31m9.6 MB/s\u001b[0m eta \u001b[36m0:00:00\u001b[0m\n",
            "\u001b[?25hInstalling collected packages: xxhash, pyarrow, dill, multiprocess, datasets\n",
            "  Attempting uninstall: pyarrow\n",
            "    Found existing installation: pyarrow 14.0.2\n",
            "    Uninstalling pyarrow-14.0.2:\n",
            "      Successfully uninstalled pyarrow-14.0.2\n",
            "\u001b[31mERROR: pip's dependency resolver does not currently take into account all the packages that are installed. This behaviour is the source of the following dependency conflicts.\n",
            "cudf-cu12 24.4.1 requires pyarrow<15.0.0a0,>=14.0.1, but you have pyarrow 17.0.0 which is incompatible.\n",
            "ibis-framework 8.0.0 requires pyarrow<16,>=2, but you have pyarrow 17.0.0 which is incompatible.\u001b[0m\u001b[31m\n",
            "\u001b[0mSuccessfully installed datasets-2.21.0 dill-0.3.8 multiprocess-0.70.16 pyarrow-17.0.0 xxhash-3.5.0\n"
          ]
        }
      ]
    },
    {
      "cell_type": "code",
      "source": [
        "!pip install openai"
      ],
      "metadata": {
        "colab": {
          "base_uri": "https://localhost:8080/"
        },
        "id": "KxDZhke9mq1k",
        "outputId": "324d1e46-513f-4304-f3ba-7b9536388bd4"
      },
      "execution_count": 2,
      "outputs": [
        {
          "output_type": "stream",
          "name": "stdout",
          "text": [
            "Collecting openai\n",
            "  Downloading openai-1.43.0-py3-none-any.whl.metadata (22 kB)\n",
            "Requirement already satisfied: anyio<5,>=3.5.0 in /usr/local/lib/python3.10/dist-packages (from openai) (3.7.1)\n",
            "Requirement already satisfied: distro<2,>=1.7.0 in /usr/lib/python3/dist-packages (from openai) (1.7.0)\n",
            "Collecting httpx<1,>=0.23.0 (from openai)\n",
            "  Downloading httpx-0.27.2-py3-none-any.whl.metadata (7.1 kB)\n",
            "Collecting jiter<1,>=0.4.0 (from openai)\n",
            "  Downloading jiter-0.5.0-cp310-cp310-manylinux_2_17_x86_64.manylinux2014_x86_64.whl.metadata (3.6 kB)\n",
            "Requirement already satisfied: pydantic<3,>=1.9.0 in /usr/local/lib/python3.10/dist-packages (from openai) (2.8.2)\n",
            "Requirement already satisfied: sniffio in /usr/local/lib/python3.10/dist-packages (from openai) (1.3.1)\n",
            "Requirement already satisfied: tqdm>4 in /usr/local/lib/python3.10/dist-packages (from openai) (4.66.5)\n",
            "Requirement already satisfied: typing-extensions<5,>=4.11 in /usr/local/lib/python3.10/dist-packages (from openai) (4.12.2)\n",
            "Requirement already satisfied: idna>=2.8 in /usr/local/lib/python3.10/dist-packages (from anyio<5,>=3.5.0->openai) (3.8)\n",
            "Requirement already satisfied: exceptiongroup in /usr/local/lib/python3.10/dist-packages (from anyio<5,>=3.5.0->openai) (1.2.2)\n",
            "Requirement already satisfied: certifi in /usr/local/lib/python3.10/dist-packages (from httpx<1,>=0.23.0->openai) (2024.7.4)\n",
            "Collecting httpcore==1.* (from httpx<1,>=0.23.0->openai)\n",
            "  Downloading httpcore-1.0.5-py3-none-any.whl.metadata (20 kB)\n",
            "Collecting h11<0.15,>=0.13 (from httpcore==1.*->httpx<1,>=0.23.0->openai)\n",
            "  Downloading h11-0.14.0-py3-none-any.whl.metadata (8.2 kB)\n",
            "Requirement already satisfied: annotated-types>=0.4.0 in /usr/local/lib/python3.10/dist-packages (from pydantic<3,>=1.9.0->openai) (0.7.0)\n",
            "Requirement already satisfied: pydantic-core==2.20.1 in /usr/local/lib/python3.10/dist-packages (from pydantic<3,>=1.9.0->openai) (2.20.1)\n",
            "Downloading openai-1.43.0-py3-none-any.whl (365 kB)\n",
            "\u001b[2K   \u001b[90m━━━━━━━━━━━━━━━━━━━━━━━━━━━━━━━━━━━━━━━━\u001b[0m \u001b[32m365.7/365.7 kB\u001b[0m \u001b[31m3.4 MB/s\u001b[0m eta \u001b[36m0:00:00\u001b[0m\n",
            "\u001b[?25hDownloading httpx-0.27.2-py3-none-any.whl (76 kB)\n",
            "\u001b[2K   \u001b[90m━━━━━━━━━━━━━━━━━━━━━━━━━━━━━━━━━━━━━━━━\u001b[0m \u001b[32m76.4/76.4 kB\u001b[0m \u001b[31m6.2 MB/s\u001b[0m eta \u001b[36m0:00:00\u001b[0m\n",
            "\u001b[?25hDownloading httpcore-1.0.5-py3-none-any.whl (77 kB)\n",
            "\u001b[2K   \u001b[90m━━━━━━━━━━━━━━━━━━━━━━━━━━━━━━━━━━━━━━━━\u001b[0m \u001b[32m77.9/77.9 kB\u001b[0m \u001b[31m5.1 MB/s\u001b[0m eta \u001b[36m0:00:00\u001b[0m\n",
            "\u001b[?25hDownloading jiter-0.5.0-cp310-cp310-manylinux_2_17_x86_64.manylinux2014_x86_64.whl (318 kB)\n",
            "\u001b[2K   \u001b[90m━━━━━━━━━━━━━━━━━━━━━━━━━━━━━━━━━━━━━━━━\u001b[0m \u001b[32m318.9/318.9 kB\u001b[0m \u001b[31m15.6 MB/s\u001b[0m eta \u001b[36m0:00:00\u001b[0m\n",
            "\u001b[?25hDownloading h11-0.14.0-py3-none-any.whl (58 kB)\n",
            "\u001b[2K   \u001b[90m━━━━━━━━━━━━━━━━━━━━━━━━━━━━━━━━━━━━━━━━\u001b[0m \u001b[32m58.3/58.3 kB\u001b[0m \u001b[31m4.8 MB/s\u001b[0m eta \u001b[36m0:00:00\u001b[0m\n",
            "\u001b[?25hInstalling collected packages: jiter, h11, httpcore, httpx, openai\n",
            "Successfully installed h11-0.14.0 httpcore-1.0.5 httpx-0.27.2 jiter-0.5.0 openai-1.43.0\n"
          ]
        }
      ]
    },
    {
      "cell_type": "markdown",
      "source": [
        "Import Necessary Libraries"
      ],
      "metadata": {
        "id": "-3XjLe7WmuPF"
      }
    },
    {
      "cell_type": "code",
      "execution_count": 3,
      "metadata": {
        "id": "ZCKjEtk1QZgK"
      },
      "outputs": [],
      "source": [
        "from datasets import load_dataset\n",
        "import pandas as pd\n",
        "from openai import OpenAI\n",
        "import os\n",
        "import json\n",
        "import matplotlib.pyplot as plt\n",
        "import numpy as np"
      ]
    },
    {
      "cell_type": "markdown",
      "source": [
        "Load Dataset from HuggingFace"
      ],
      "metadata": {
        "id": "EHVoozLomybi"
      }
    },
    {
      "cell_type": "code",
      "source": [
        "dataset_clean = load_dataset(\"cmudrc/Material_Selection_Eval\", \"clean_responses\")"
      ],
      "metadata": {
        "colab": {
          "base_uri": "https://localhost:8080/",
          "height": 240,
          "referenced_widgets": [
            "7c591863a27648cabc58308b5625c5c3",
            "b7766d3d41e54dd9ba3df36ff889393b",
            "2bb3d9657d854f459b373570bb34f808",
            "a1f14b58a2504a5db14d5b69902b39fa",
            "facc7eb488584fdbba35ef43ffb99065",
            "602eff89a83c407c93e186baa68a99c6",
            "f482dc23c9574d5aaf86036105d7c38c",
            "3d27ef4f04064255b574ebea015c924a",
            "fa900205cdc74a52adfb6a29d55c643d",
            "357ad13665614bfe93d50df01995809c",
            "ec621707d4e54077ad98f5decb51d228",
            "359cbf44ea4a4a888c057080a57c276f",
            "61eeb55f0ca04b1aac0a6f31c1513dae",
            "607a0d6e3cc746619f0862be86174543",
            "c3b009572e894c498be7761d3d43a198",
            "6a044cd055484732897016c32bd468b9",
            "bb73e7d8104949dbb07c2b8214bb67d9",
            "bc0beaf7ee66494fb717840a65b88cc5",
            "dcde8c4a33284d7581d08d8c18ab426a",
            "79dc5ebdf39e4c879ef845d94349bea5",
            "8f0f079f488e4633b0c9dbfd3df995df",
            "aed516f8b4c84a4aa92f01a295a73958",
            "2fdcaaef1a70411ca3aca43700bcb0d8",
            "6e9944b9a13642439af6161b580aadf0",
            "db49a01969a743b889179bd00e82b9a8",
            "7ceb8c57d9f84f3097365500a2e6a938",
            "74608b234ddc448091b154f490269522",
            "fe2211c4b89d449f978dc5dd48a4c38c",
            "9678f2cdc4d14809b6d176d363983e6f",
            "4540fd16824649709f25f3c652f2f0c3",
            "224a2220007e4125a5d5e9511935ade2",
            "14a5baa0548243888fb93d2b6e778637",
            "ffcd021b85744c0dabc18e32cfba18c0"
          ]
        },
        "collapsed": true,
        "id": "xWKowXyLQcBp",
        "outputId": "6d92ddec-8a63-44c5-f961-3ea2a1188fef"
      },
      "execution_count": 4,
      "outputs": [
        {
          "output_type": "stream",
          "name": "stderr",
          "text": [
            "/usr/local/lib/python3.10/dist-packages/huggingface_hub/utils/_token.py:89: UserWarning: \n",
            "The secret `HF_TOKEN` does not exist in your Colab secrets.\n",
            "To authenticate with the Hugging Face Hub, create a token in your settings tab (https://huggingface.co/settings/tokens), set it as secret in your Google Colab and restart your session.\n",
            "You will be able to reuse this secret in all of your notebooks.\n",
            "Please note that authentication is recommended but still optional to access public models or datasets.\n",
            "  warnings.warn(\n"
          ]
        },
        {
          "output_type": "display_data",
          "data": {
            "text/plain": [
              "Downloading readme:   0%|          | 0.00/2.31k [00:00<?, ?B/s]"
            ],
            "application/vnd.jupyter.widget-view+json": {
              "version_major": 2,
              "version_minor": 0,
              "model_id": "7c591863a27648cabc58308b5625c5c3"
            }
          },
          "metadata": {}
        },
        {
          "output_type": "display_data",
          "data": {
            "text/plain": [
              "Downloading data:   0%|          | 0.00/22.6k [00:00<?, ?B/s]"
            ],
            "application/vnd.jupyter.widget-view+json": {
              "version_major": 2,
              "version_minor": 0,
              "model_id": "359cbf44ea4a4a888c057080a57c276f"
            }
          },
          "metadata": {}
        },
        {
          "output_type": "display_data",
          "data": {
            "text/plain": [
              "Generating train split:   0%|          | 0/67 [00:00<?, ? examples/s]"
            ],
            "application/vnd.jupyter.widget-view+json": {
              "version_major": 2,
              "version_minor": 0,
              "model_id": "2fdcaaef1a70411ca3aca43700bcb0d8"
            }
          },
          "metadata": {}
        }
      ]
    },
    {
      "cell_type": "code",
      "source": [
        "dataset_clean_pd = dataset_clean['train'].to_pandas()"
      ],
      "metadata": {
        "id": "fvPo2ZcfQb_g"
      },
      "execution_count": 5,
      "outputs": []
    },
    {
      "cell_type": "code",
      "source": [
        "directory = 'data/csv_files'\n",
        "\n",
        "if not os.path.exists(directory):\n",
        "    os.makedirs(directory)"
      ],
      "metadata": {
        "id": "1kkSdgtWU3W_"
      },
      "execution_count": 6,
      "outputs": []
    },
    {
      "cell_type": "code",
      "source": [
        "file_path = os.path.join(directory, 'clean_responses.csv')"
      ],
      "metadata": {
        "id": "HDtZSMyFU7b7"
      },
      "execution_count": 7,
      "outputs": []
    },
    {
      "cell_type": "markdown",
      "source": [
        "Save CSV file for comparison"
      ],
      "metadata": {
        "id": "6pXU2aHjm57X"
      }
    },
    {
      "cell_type": "code",
      "source": [
        "dataset_clean_pd.to_csv(file_path, index=False)"
      ],
      "metadata": {
        "id": "ZtC5spp2Qb8V"
      },
      "execution_count": 8,
      "outputs": []
    },
    {
      "cell_type": "code",
      "source": [],
      "metadata": {
        "id": "yde26EL_Qb6P"
      },
      "execution_count": 8,
      "outputs": []
    },
    {
      "cell_type": "markdown",
      "source": [
        "Create a simple completion using OpenAI Completion API"
      ],
      "metadata": {
        "id": "10z87WXHm8jj"
      }
    },
    {
      "cell_type": "code",
      "source": [
        "from google.colab import userdata\n",
        "openAI_key = userdata.get('openai_key')"
      ],
      "metadata": {
        "id": "W4GsZnFRRHlT"
      },
      "execution_count": 9,
      "outputs": []
    },
    {
      "cell_type": "code",
      "source": [
        "client = OpenAI(api_key=openAI_key)\n",
        "\n",
        "def get_completion(prompt, model=\"gpt-4o\"):\n",
        "    messages = [{\"role\": \"user\", \"content\": prompt}\n",
        "                ,{\"role\": \"system\", \"content\": \"You are a Materials Science and Design Engineering expert.\"}]\n",
        "    response = client.chat.completions.create(\n",
        "        model=model,\n",
        "        messages=messages,\n",
        "        temperature=0,\n",
        "        response_format={\"type\": \"json_object\"}\n",
        "    )\n",
        "    return response.choices[0].message.content\n"
      ],
      "metadata": {
        "id": "NjLug-ssQb4Q"
      },
      "execution_count": 10,
      "outputs": []
    },
    {
      "cell_type": "markdown",
      "source": [
        "Define data for loops"
      ],
      "metadata": {
        "id": "m_yJHpg4nEGq"
      }
    },
    {
      "cell_type": "code",
      "source": [
        "material_families = f'''\n",
        "1. Steel\n",
        "2. Aluminium\n",
        "3. Titanium\n",
        "4. Glass\n",
        "5. Wood\n",
        "6. Thermoplastic\n",
        "7. Elastomer\n",
        "8. Thermoset\n",
        "9. Composite\n",
        "'''\n",
        "\n",
        "design_choice = [\n",
        "    \"Kitchen Utensil Grip\",\n",
        "    \"Spacecraft Component\",\n",
        "    \"Underwater Component\",\n",
        "    \"Safety Helmet\"\n",
        "]\n",
        "\n",
        "criterion = [\n",
        "    \"Lightweight\",\n",
        "    \"Resistant to Heat\",\n",
        "    \"Corrosion Resistant\",\n",
        "    \"High Strength\"\n",
        "]\n"
      ],
      "metadata": {
        "id": "LmUIPmtSQb0B"
      },
      "execution_count": 11,
      "outputs": []
    },
    {
      "cell_type": "markdown",
      "source": [
        "Prompt for generating scores of design choices"
      ],
      "metadata": {
        "id": "dCpa2MmmnJpC"
      }
    },
    {
      "cell_type": "code",
      "source": [
        "def prompt_response(design_choice: str, criterion: str):\n",
        "    prompt = f\"\"\"\n",
        "    You are given a problem statement to assist a designer as below:\n",
        "    The information below is provided to you delimited by triple backticks\n",
        "\n",
        "    Design: '''{design_choice}'''\n",
        "    Criterion: '''{criterion}'''\n",
        "\n",
        "    You are tasked with designing the grip of {design_choice} which should be {criterion}.\n",
        "\n",
        "    How well do you think each of the provided materials would perform in this application?\n",
        "\n",
        "    As a materials science and design engineer with experience in this field,\n",
        "    you are supposed to give a rank of 1-9 for each of the options provided below.\n",
        "    This score should be how applicable each material family would be for this design case.\n",
        "    1 would be the best choice and 9 would be the worst for this use case as mentioned in the question.\n",
        "\n",
        "    Here are the material families to score on:\n",
        "    '''{material_families}'''\n",
        "\n",
        "    The rank is intended on a viability perspective, so the focus should be on how well the material satisfies the design and criterion pair.\n",
        "\n",
        "    Output should be of a JSON format, use the following format:\n",
        "\n",
        "    Output JSON:\n",
        "    (\n",
        "    'design' : {design_choice},\n",
        "    'criterion' : {criterion},\n",
        "    material name (material family scored - if it is steel then use steel as the key) : rank which is an integer ranging from 1-9,\n",
        "    )\n",
        "    \"\"\"\n",
        "\n",
        "    response = get_completion(prompt)\n",
        "\n",
        "    return response"
      ],
      "metadata": {
        "id": "kWXvvntCQbyL"
      },
      "execution_count": 12,
      "outputs": []
    },
    {
      "cell_type": "code",
      "source": [
        "directory = 'data/json_files'\n",
        "\n",
        "if not os.path.exists(directory):\n",
        "    os.makedirs(directory)"
      ],
      "metadata": {
        "id": "dTvL_onRVPKL"
      },
      "execution_count": 13,
      "outputs": []
    },
    {
      "cell_type": "markdown",
      "source": [
        "Save JSON files for each design case and criterion"
      ],
      "metadata": {
        "id": "ZuZneG_wnNdh"
      }
    },
    {
      "cell_type": "code",
      "source": [
        "for j in range(len(design_choice)):\n",
        "    for k in range(len(criterion)):\n",
        "        rank_json = prompt_response(design_choice[j], criterion[k])\n",
        "\n",
        "        path = f\"./data/json_files/{design_choice[j]}_{criterion[k]}.json\"\n",
        "\n",
        "        with open(path, \"w\") as json_file:\n",
        "            json.dump(rank_json, json_file)\n",
        "            print(f\"Data Saved to {path}\")"
      ],
      "metadata": {
        "colab": {
          "base_uri": "https://localhost:8080/"
        },
        "id": "CbjIhLXjQbwG",
        "outputId": "9ca3abca-7f9c-4c6d-e1bf-af6a901928d9"
      },
      "execution_count": 14,
      "outputs": [
        {
          "output_type": "stream",
          "name": "stdout",
          "text": [
            "Data Saved to ./data/json_files/Kitchen Utensil Grip_Lightweight.json\n",
            "Data Saved to ./data/json_files/Kitchen Utensil Grip_Resistant to Heat.json\n",
            "Data Saved to ./data/json_files/Kitchen Utensil Grip_Corrosion Resistant.json\n",
            "Data Saved to ./data/json_files/Kitchen Utensil Grip_High Strength.json\n",
            "Data Saved to ./data/json_files/Spacecraft Component_Lightweight.json\n",
            "Data Saved to ./data/json_files/Spacecraft Component_Resistant to Heat.json\n",
            "Data Saved to ./data/json_files/Spacecraft Component_Corrosion Resistant.json\n",
            "Data Saved to ./data/json_files/Spacecraft Component_High Strength.json\n",
            "Data Saved to ./data/json_files/Underwater Component_Lightweight.json\n",
            "Data Saved to ./data/json_files/Underwater Component_Resistant to Heat.json\n",
            "Data Saved to ./data/json_files/Underwater Component_Corrosion Resistant.json\n",
            "Data Saved to ./data/json_files/Underwater Component_High Strength.json\n",
            "Data Saved to ./data/json_files/Safety Helmet_Lightweight.json\n",
            "Data Saved to ./data/json_files/Safety Helmet_Resistant to Heat.json\n",
            "Data Saved to ./data/json_files/Safety Helmet_Corrosion Resistant.json\n",
            "Data Saved to ./data/json_files/Safety Helmet_High Strength.json\n"
          ]
        }
      ]
    },
    {
      "cell_type": "markdown",
      "source": [
        "# Example for Spacecraft Component + Resistant to Heat"
      ],
      "metadata": {
        "id": "PHiDp6Alnurq"
      }
    },
    {
      "cell_type": "markdown",
      "source": [
        "Example loading of JSON saved earlier"
      ],
      "metadata": {
        "id": "5vVB3HjVnSmg"
      }
    },
    {
      "cell_type": "code",
      "source": [
        "file_path = \"./data/json_files/Spacecraft Component_Resistant to Heat.json\"\n",
        "\n",
        "with open(file_path, 'r') as json_file:\n",
        "    rank_data = json.load(json_file)\n",
        "    print(rank_data)\n",
        "    print(type(rank_data))\n",
        "\n",
        "    dict_r = json.loads(rank_data)\n",
        "    print(dict_r)\n",
        "    print(type(dict_r))"
      ],
      "metadata": {
        "colab": {
          "base_uri": "https://localhost:8080/"
        },
        "id": "o1Md5N1dTAWI",
        "outputId": "f2c73447-c927-4cdf-f715-7eb962c8c04a"
      },
      "execution_count": 15,
      "outputs": [
        {
          "output_type": "stream",
          "name": "stdout",
          "text": [
            "{\n",
            "    \"design\": \"Spacecraft Component\",\n",
            "    \"criterion\": \"Resistant to Heat\",\n",
            "    \"steel\": 3,\n",
            "    \"aluminium\": 5,\n",
            "    \"titanium\": 2,\n",
            "    \"glass\": 6,\n",
            "    \"wood\": 9,\n",
            "    \"thermoplastic\": 8,\n",
            "    \"elastomer\": 7,\n",
            "    \"thermoset\": 4,\n",
            "    \"composite\": 1\n",
            "}\n",
            "<class 'str'>\n",
            "{'design': 'Spacecraft Component', 'criterion': 'Resistant to Heat', 'steel': 3, 'aluminium': 5, 'titanium': 2, 'glass': 6, 'wood': 9, 'thermoplastic': 8, 'elastomer': 7, 'thermoset': 4, 'composite': 1}\n",
            "<class 'dict'>\n"
          ]
        }
      ]
    },
    {
      "cell_type": "markdown",
      "source": [
        "Extract averaged columns from KeyQuestions.csv"
      ],
      "metadata": {
        "id": "71vLfwrqnVpL"
      }
    },
    {
      "cell_type": "code",
      "source": [
        "q6_columns = [col for col in dataset_clean_pd.columns if col.startswith('Q6_')]\n",
        "\n",
        "q6_averages = dataset_clean_pd[q6_columns].mean()\n",
        "\n",
        "q6_averages"
      ],
      "metadata": {
        "colab": {
          "base_uri": "https://localhost:8080/",
          "height": 366
        },
        "id": "Khl0ObFDQbuR",
        "outputId": "d59523af-5b9b-4cfd-c0a5-39cce70f4dc8"
      },
      "execution_count": 16,
      "outputs": [
        {
          "output_type": "execute_result",
          "data": {
            "text/plain": [
              "Q6_Steel            5.462687\n",
              "Q6_Aluminium        5.373134\n",
              "Q6_Titanium         7.417910\n",
              "Q6_Glass            4.194030\n",
              "Q6_Wood             1.313433\n",
              "Q6_Thermoplastic    2.895522\n",
              "Q6_Elastomer        2.164179\n",
              "Q6_Thermoset        3.253731\n",
              "Q6_Composite        5.805970\n",
              "dtype: float64"
            ],
            "text/html": [
              "<div>\n",
              "<style scoped>\n",
              "    .dataframe tbody tr th:only-of-type {\n",
              "        vertical-align: middle;\n",
              "    }\n",
              "\n",
              "    .dataframe tbody tr th {\n",
              "        vertical-align: top;\n",
              "    }\n",
              "\n",
              "    .dataframe thead th {\n",
              "        text-align: right;\n",
              "    }\n",
              "</style>\n",
              "<table border=\"1\" class=\"dataframe\">\n",
              "  <thead>\n",
              "    <tr style=\"text-align: right;\">\n",
              "      <th></th>\n",
              "      <th>0</th>\n",
              "    </tr>\n",
              "  </thead>\n",
              "  <tbody>\n",
              "    <tr>\n",
              "      <th>Q6_Steel</th>\n",
              "      <td>5.462687</td>\n",
              "    </tr>\n",
              "    <tr>\n",
              "      <th>Q6_Aluminium</th>\n",
              "      <td>5.373134</td>\n",
              "    </tr>\n",
              "    <tr>\n",
              "      <th>Q6_Titanium</th>\n",
              "      <td>7.417910</td>\n",
              "    </tr>\n",
              "    <tr>\n",
              "      <th>Q6_Glass</th>\n",
              "      <td>4.194030</td>\n",
              "    </tr>\n",
              "    <tr>\n",
              "      <th>Q6_Wood</th>\n",
              "      <td>1.313433</td>\n",
              "    </tr>\n",
              "    <tr>\n",
              "      <th>Q6_Thermoplastic</th>\n",
              "      <td>2.895522</td>\n",
              "    </tr>\n",
              "    <tr>\n",
              "      <th>Q6_Elastomer</th>\n",
              "      <td>2.164179</td>\n",
              "    </tr>\n",
              "    <tr>\n",
              "      <th>Q6_Thermoset</th>\n",
              "      <td>3.253731</td>\n",
              "    </tr>\n",
              "    <tr>\n",
              "      <th>Q6_Composite</th>\n",
              "      <td>5.805970</td>\n",
              "    </tr>\n",
              "  </tbody>\n",
              "</table>\n",
              "</div><br><label><b>dtype:</b> float64</label>"
            ]
          },
          "metadata": {},
          "execution_count": 16
        }
      ]
    },
    {
      "cell_type": "markdown",
      "source": [
        "Sanity check for checking scores question wise"
      ],
      "metadata": {
        "id": "i9LEkuaync1a"
      }
    },
    {
      "cell_type": "code",
      "source": [
        "file_path = \"./data/json_files/Spacecraft Component_Resistant to Heat.json\"\n",
        "\n",
        "with open(file_path, 'r') as json_file:\n",
        "    rank_data = json.load(json_file)\n",
        "\n",
        "    rank_data = json.loads(rank_data)\n",
        "\n",
        "design = rank_data.get('design', 'N/A')\n",
        "criterion = rank_data.get('criterion', 'N/A')\n",
        "material_scores = {key: value for key, value in rank_data.items() if key not in ['design', 'criterion']}\n",
        "\n",
        "print(f\"Design: {design}\")\n",
        "print(f\"Criterion: {criterion}\")\n",
        "print(\"Material Scores:\")\n",
        "for material, score in material_scores.items():\n",
        "    print(f\"{material}: {score}\")\n"
      ],
      "metadata": {
        "colab": {
          "base_uri": "https://localhost:8080/"
        },
        "id": "uAUWLAV_Qbr_",
        "outputId": "f29a8d65-345d-4f77-8190-d12c1d80e582"
      },
      "execution_count": 17,
      "outputs": [
        {
          "output_type": "stream",
          "name": "stdout",
          "text": [
            "Design: Spacecraft Component\n",
            "Criterion: Resistant to Heat\n",
            "Material Scores:\n",
            "steel: 3\n",
            "aluminium: 5\n",
            "titanium: 2\n",
            "glass: 6\n",
            "wood: 9\n",
            "thermoplastic: 8\n",
            "elastomer: 7\n",
            "thermoset: 4\n",
            "composite: 1\n"
          ]
        }
      ]
    },
    {
      "cell_type": "markdown",
      "source": [
        "Comparison using a plot"
      ],
      "metadata": {
        "id": "6K8h20cMnjGq"
      }
    },
    {
      "cell_type": "code",
      "source": [
        "# Average scores from the dataset (as calculated earlier)\n",
        "dataset_averages = {\n",
        "    \"steel\": 5.46,\n",
        "    \"aluminium\": 5.37,\n",
        "    \"titanium\": 7.42,\n",
        "    \"glass\": 4.19,\n",
        "    \"wood\": 1.31,\n",
        "    \"thermoplastic\": 2.89,\n",
        "    \"elastomer\": 2.16,\n",
        "    \"thermoset\": 3.25,\n",
        "    \"composite\": 5.80\n",
        "}\n",
        "\n",
        "# AI model's scores from the JSON file\n",
        "file_path = \"./data/json_files/Spacecraft Component_Resistant to Heat.json\"\n",
        "with open(file_path, 'r') as json_file:\n",
        "    ai_scores = json.load(json_file)\n",
        "    ai_scores = json.loads(ai_scores)\n",
        "\n",
        "# Difference between AI model scores and dataset averages\n",
        "materials = list(dataset_averages.keys())\n",
        "differences = []\n",
        "for material in materials:\n",
        "    ai_score = ai_scores.get(material, 0)\n",
        "    dataset_avg = dataset_averages[material]\n",
        "    differences.append(ai_score - dataset_avg)\n",
        "\n",
        "\n",
        "plt.figure(figsize=(10, 6))\n",
        "plt.barh(materials, differences, color='skyblue')\n",
        "plt.xlabel('Difference in Scores (AI Model - Dataset Average)')\n",
        "plt.ylabel('Material')\n",
        "plt.title('Difference in Scores: AI Model vs Dataset Average')\n",
        "plt.axvline(0, color='black', linewidth=0.8)\n",
        "plt.grid(True)\n",
        "plt.show()\n"
      ],
      "metadata": {
        "colab": {
          "base_uri": "https://localhost:8080/",
          "height": 564
        },
        "id": "rbjrrtX4QbpV",
        "outputId": "93620601-737f-489a-d8b5-5b1b1fd5ce3f"
      },
      "execution_count": 19,
      "outputs": [
        {
          "output_type": "display_data",
          "data": {
            "text/plain": [
              "<Figure size 1000x600 with 1 Axes>"
            ],
            "image/png": "[encoded data removed]"
          },
          "metadata": {}
        }
      ]
    },
    {
      "cell_type": "code",
      "source": [],
      "metadata": {
        "id": "sCggarXcQbla"
      },
      "execution_count": null,
      "outputs": []
    },
    {
      "cell_type": "markdown",
      "source": [
        "# Example for Kitchen Utensil Grip + Lightweight"
      ],
      "metadata": {
        "id": "wUj1oCbbn7AX"
      }
    },
    {
      "cell_type": "code",
      "source": [
        "file_path = \"./data/json_files/Kitchen Utensil Grip_Lightweight.json\"\n",
        "\n",
        "with open(file_path, 'r') as json_file:\n",
        "    rank_data = json.load(json_file)\n",
        "    print(rank_data)\n",
        "    print(type(rank_data))\n",
        "\n",
        "    dict_r = json.loads(rank_data)\n",
        "    print(dict_r)\n",
        "    print(type(dict_r))"
      ],
      "metadata": {
        "colab": {
          "base_uri": "https://localhost:8080/"
        },
        "id": "EFRRV3pJQbjW",
        "outputId": "db1a4105-0d1e-4dfb-e9ac-e735bc42b164"
      },
      "execution_count": 20,
      "outputs": [
        {
          "output_type": "stream",
          "name": "stdout",
          "text": [
            "{\n",
            "    \"design\": \"Kitchen Utensil Grip\",\n",
            "    \"criterion\": \"Lightweight\",\n",
            "    \"steel\": 9,\n",
            "    \"aluminium\": 4,\n",
            "    \"titanium\": 5,\n",
            "    \"glass\": 8,\n",
            "    \"wood\": 6,\n",
            "    \"thermoplastic\": 1,\n",
            "    \"elastomer\": 2,\n",
            "    \"thermoset\": 3,\n",
            "    \"composite\": 7\n",
            "}\n",
            "<class 'str'>\n",
            "{'design': 'Kitchen Utensil Grip', 'criterion': 'Lightweight', 'steel': 9, 'aluminium': 4, 'titanium': 5, 'glass': 8, 'wood': 6, 'thermoplastic': 1, 'elastomer': 2, 'thermoset': 3, 'composite': 7}\n",
            "<class 'dict'>\n"
          ]
        }
      ]
    },
    {
      "cell_type": "code",
      "source": [
        "q1_columns = [col for col in dataset_clean_pd.columns if col.startswith('Q1_')]\n",
        "\n",
        "q1_averages = dataset_clean_pd[q1_columns].mean()\n",
        "\n",
        "q1_averages"
      ],
      "metadata": {
        "colab": {
          "base_uri": "https://localhost:8080/",
          "height": 366
        },
        "id": "DM1_32HFQbhx",
        "outputId": "413f1488-3ddc-4824-a2f2-ad77f13fef4f"
      },
      "execution_count": 21,
      "outputs": [
        {
          "output_type": "execute_result",
          "data": {
            "text/plain": [
              "Q1_Steel            2.955224\n",
              "Q1_Aluminium        6.119403\n",
              "Q1_Titanium         5.134328\n",
              "Q1_Glass            2.194030\n",
              "Q1_Wood             6.134328\n",
              "Q1_Thermoplastic    5.492537\n",
              "Q1_Elastomer        4.701493\n",
              "Q1_Thermoset        5.791045\n",
              "Q1_Composite        6.970149\n",
              "dtype: float64"
            ],
            "text/html": [
              "<div>\n",
              "<style scoped>\n",
              "    .dataframe tbody tr th:only-of-type {\n",
              "        vertical-align: middle;\n",
              "    }\n",
              "\n",
              "    .dataframe tbody tr th {\n",
              "        vertical-align: top;\n",
              "    }\n",
              "\n",
              "    .dataframe thead th {\n",
              "        text-align: right;\n",
              "    }\n",
              "</style>\n",
              "<table border=\"1\" class=\"dataframe\">\n",
              "  <thead>\n",
              "    <tr style=\"text-align: right;\">\n",
              "      <th></th>\n",
              "      <th>0</th>\n",
              "    </tr>\n",
              "  </thead>\n",
              "  <tbody>\n",
              "    <tr>\n",
              "      <th>Q1_Steel</th>\n",
              "      <td>2.955224</td>\n",
              "    </tr>\n",
              "    <tr>\n",
              "      <th>Q1_Aluminium</th>\n",
              "      <td>6.119403</td>\n",
              "    </tr>\n",
              "    <tr>\n",
              "      <th>Q1_Titanium</th>\n",
              "      <td>5.134328</td>\n",
              "    </tr>\n",
              "    <tr>\n",
              "      <th>Q1_Glass</th>\n",
              "      <td>2.194030</td>\n",
              "    </tr>\n",
              "    <tr>\n",
              "      <th>Q1_Wood</th>\n",
              "      <td>6.134328</td>\n",
              "    </tr>\n",
              "    <tr>\n",
              "      <th>Q1_Thermoplastic</th>\n",
              "      <td>5.492537</td>\n",
              "    </tr>\n",
              "    <tr>\n",
              "      <th>Q1_Elastomer</th>\n",
              "      <td>4.701493</td>\n",
              "    </tr>\n",
              "    <tr>\n",
              "      <th>Q1_Thermoset</th>\n",
              "      <td>5.791045</td>\n",
              "    </tr>\n",
              "    <tr>\n",
              "      <th>Q1_Composite</th>\n",
              "      <td>6.970149</td>\n",
              "    </tr>\n",
              "  </tbody>\n",
              "</table>\n",
              "</div><br><label><b>dtype:</b> float64</label>"
            ]
          },
          "metadata": {},
          "execution_count": 21
        }
      ]
    },
    {
      "cell_type": "code",
      "source": [
        "file_path = \"./data/json_files/Kitchen Utensil Grip_Lightweight.json\"\n",
        "\n",
        "with open(file_path, 'r') as json_file:\n",
        "    rank_data = json.load(json_file)\n",
        "\n",
        "    rank_data = json.loads(rank_data)\n",
        "\n",
        "design = rank_data.get('design', 'N/A')\n",
        "criterion = rank_data.get('criterion', 'N/A')\n",
        "material_scores = {key: value for key, value in rank_data.items() if key not in ['design', 'criterion']}\n",
        "\n",
        "print(f\"Design: {design}\")\n",
        "print(f\"Criterion: {criterion}\")\n",
        "print(\"Material Scores:\")\n",
        "for material, score in material_scores.items():\n",
        "    print(f\"{material}: {score}\")\n"
      ],
      "metadata": {
        "colab": {
          "base_uri": "https://localhost:8080/"
        },
        "id": "GXyvjrLkQbgN",
        "outputId": "5469616a-be8b-4ea7-9710-2fe3fa82d664"
      },
      "execution_count": 22,
      "outputs": [
        {
          "output_type": "stream",
          "name": "stdout",
          "text": [
            "Design: Kitchen Utensil Grip\n",
            "Criterion: Lightweight\n",
            "Material Scores:\n",
            "steel: 9\n",
            "aluminium: 4\n",
            "titanium: 5\n",
            "glass: 8\n",
            "wood: 6\n",
            "thermoplastic: 1\n",
            "elastomer: 2\n",
            "thermoset: 3\n",
            "composite: 7\n"
          ]
        }
      ]
    },
    {
      "cell_type": "code",
      "source": [
        "dataset_averages = {\n",
        "    \"steel\": 2.95,\n",
        "    \"aluminium\": 6.12,\n",
        "    \"titanium\": 5.13,\n",
        "    \"glass\": 2.19,\n",
        "    \"wood\": 6.13,\n",
        "    \"thermoplastic\": 5.49,\n",
        "    \"elastomer\": 4.70,\n",
        "    \"thermoset\": 5.79,\n",
        "    \"composite\": 6.97\n",
        "}\n",
        "\n",
        "# AI model's scores from the JSON file\n",
        "file_path = \"./data/json_files/Kitchen Utensil Grip_Lightweight.json\"\n",
        "with open(file_path, 'r') as json_file:\n",
        "    ai_scores = json.load(json_file)\n",
        "    ai_scores = json.loads(ai_scores)\n",
        "\n",
        "# Difference between AI model scores and dataset averages\n",
        "materials = list(dataset_averages.keys())\n",
        "differences = []\n",
        "for material in materials:\n",
        "    ai_score = ai_scores.get(material, 0)\n",
        "    dataset_avg = dataset_averages[material]\n",
        "    differences.append(ai_score - dataset_avg)\n",
        "\n",
        "\n",
        "plt.figure(figsize=(10, 6))\n",
        "plt.barh(materials, differences, color='skyblue')\n",
        "plt.xlabel('Difference in Scores (AI Model - Dataset Average)')\n",
        "plt.ylabel('Material')\n",
        "plt.title('Difference in Scores: AI Model vs Dataset Average')\n",
        "plt.axvline(0, color='black', linewidth=0.8)\n",
        "plt.grid(True)\n",
        "plt.show()"
      ],
      "metadata": {
        "colab": {
          "base_uri": "https://localhost:8080/",
          "height": 564
        },
        "id": "GQaaR6XxQbeY",
        "outputId": "244cd3c1-96bd-4711-99bf-9010cae373ff"
      },
      "execution_count": 23,
      "outputs": [
        {
          "output_type": "display_data",
          "data": {
            "text/plain": [
              "<Figure size 1000x600 with 1 Axes>"
            ],
            "image/png": "[encoded data removed]"
          },
          "metadata": {}
        }
      ]
    },
    {
      "cell_type": "code",
      "source": [],
      "metadata": {
        "id": "hRzzT4wEQbc0"
      },
      "execution_count": null,
      "outputs": []
    },
    {
      "cell_type": "markdown",
      "source": [
        "# Example for Underwater Component + Corrosion Resistant"
      ],
      "metadata": {
        "id": "JsTi0ul0ovoS"
      }
    },
    {
      "cell_type": "code",
      "source": [
        "file_path = \"./data/json_files/Underwater Component_Corrosion Resistant.json\"\n",
        "\n",
        "with open(file_path, 'r') as json_file:\n",
        "    rank_data = json.load(json_file)\n",
        "    print(rank_data)\n",
        "    print(type(rank_data))\n",
        "\n",
        "    dict_r = json.loads(rank_data)\n",
        "    print(dict_r)\n",
        "    print(type(dict_r))"
      ],
      "metadata": {
        "colab": {
          "base_uri": "https://localhost:8080/"
        },
        "id": "iFRhpngjQbav",
        "outputId": "f667bf35-6fdd-42b6-c0ba-7b236a2cbbb4"
      },
      "execution_count": 24,
      "outputs": [
        {
          "output_type": "stream",
          "name": "stdout",
          "text": [
            "{\n",
            "    \"design\": \"Underwater Component\",\n",
            "    \"criterion\": \"Corrosion Resistant\",\n",
            "    \"steel\": 7,\n",
            "    \"aluminium\": 5,\n",
            "    \"titanium\": 1,\n",
            "    \"glass\": 6,\n",
            "    \"wood\": 9,\n",
            "    \"thermoplastic\": 3,\n",
            "    \"elastomer\": 4,\n",
            "    \"thermoset\": 2,\n",
            "    \"composite\": 8\n",
            "}\n",
            "<class 'str'>\n",
            "{'design': 'Underwater Component', 'criterion': 'Corrosion Resistant', 'steel': 7, 'aluminium': 5, 'titanium': 1, 'glass': 6, 'wood': 9, 'thermoplastic': 3, 'elastomer': 4, 'thermoset': 2, 'composite': 8}\n",
            "<class 'dict'>\n"
          ]
        }
      ]
    },
    {
      "cell_type": "code",
      "source": [
        "q11_columns = [col for col in dataset_clean_pd.columns if col.startswith('Q11_')]\n",
        "\n",
        "q11_averages = dataset_clean_pd[q11_columns].mean()\n",
        "\n",
        "q11_averages"
      ],
      "metadata": {
        "colab": {
          "base_uri": "https://localhost:8080/",
          "height": 366
        },
        "id": "nT8Rtk0lQbYw",
        "outputId": "ba8b1bb3-35ec-4e59-c9f2-dbe5c74b1ff2"
      },
      "execution_count": 25,
      "outputs": [
        {
          "output_type": "execute_result",
          "data": {
            "text/plain": [
              "Q11_Steel            3.940299\n",
              "Q11_Aluminium        6.373134\n",
              "Q11_Titanium         8.119403\n",
              "Q11_Glass            6.029851\n",
              "Q11_Wood             2.641791\n",
              "Q11_Thermoplastic    5.507463\n",
              "Q11_Elastomer        4.507463\n",
              "Q11_Thermoset        5.283582\n",
              "Q11_Composite        7.268657\n",
              "dtype: float64"
            ],
            "text/html": [
              "<div>\n",
              "<style scoped>\n",
              "    .dataframe tbody tr th:only-of-type {\n",
              "        vertical-align: middle;\n",
              "    }\n",
              "\n",
              "    .dataframe tbody tr th {\n",
              "        vertical-align: top;\n",
              "    }\n",
              "\n",
              "    .dataframe thead th {\n",
              "        text-align: right;\n",
              "    }\n",
              "</style>\n",
              "<table border=\"1\" class=\"dataframe\">\n",
              "  <thead>\n",
              "    <tr style=\"text-align: right;\">\n",
              "      <th></th>\n",
              "      <th>0</th>\n",
              "    </tr>\n",
              "  </thead>\n",
              "  <tbody>\n",
              "    <tr>\n",
              "      <th>Q11_Steel</th>\n",
              "      <td>3.940299</td>\n",
              "    </tr>\n",
              "    <tr>\n",
              "      <th>Q11_Aluminium</th>\n",
              "      <td>6.373134</td>\n",
              "    </tr>\n",
              "    <tr>\n",
              "      <th>Q11_Titanium</th>\n",
              "      <td>8.119403</td>\n",
              "    </tr>\n",
              "    <tr>\n",
              "      <th>Q11_Glass</th>\n",
              "      <td>6.029851</td>\n",
              "    </tr>\n",
              "    <tr>\n",
              "      <th>Q11_Wood</th>\n",
              "      <td>2.641791</td>\n",
              "    </tr>\n",
              "    <tr>\n",
              "      <th>Q11_Thermoplastic</th>\n",
              "      <td>5.507463</td>\n",
              "    </tr>\n",
              "    <tr>\n",
              "      <th>Q11_Elastomer</th>\n",
              "      <td>4.507463</td>\n",
              "    </tr>\n",
              "    <tr>\n",
              "      <th>Q11_Thermoset</th>\n",
              "      <td>5.283582</td>\n",
              "    </tr>\n",
              "    <tr>\n",
              "      <th>Q11_Composite</th>\n",
              "      <td>7.268657</td>\n",
              "    </tr>\n",
              "  </tbody>\n",
              "</table>\n",
              "</div><br><label><b>dtype:</b> float64</label>"
            ]
          },
          "metadata": {},
          "execution_count": 25
        }
      ]
    },
    {
      "cell_type": "code",
      "source": [
        "file_path = \"./data/json_files/Underwater Component_Corrosion Resistant.json\"\n",
        "\n",
        "with open(file_path, 'r') as json_file:\n",
        "    rank_data = json.load(json_file)\n",
        "\n",
        "    rank_data = json.loads(rank_data)\n",
        "\n",
        "design = rank_data.get('design', 'N/A')\n",
        "criterion = rank_data.get('criterion', 'N/A')\n",
        "material_scores = {key: value for key, value in rank_data.items() if key not in ['design', 'criterion']}\n",
        "\n",
        "print(f\"Design: {design}\")\n",
        "print(f\"Criterion: {criterion}\")\n",
        "print(\"Material Scores:\")\n",
        "for material, score in material_scores.items():\n",
        "    print(f\"{material}: {score}\")\n"
      ],
      "metadata": {
        "colab": {
          "base_uri": "https://localhost:8080/"
        },
        "id": "KqHNeORBQbW1",
        "outputId": "5fd90c8f-675f-481a-ff77-fb91b39fd8bb"
      },
      "execution_count": 26,
      "outputs": [
        {
          "output_type": "stream",
          "name": "stdout",
          "text": [
            "Design: Underwater Component\n",
            "Criterion: Corrosion Resistant\n",
            "Material Scores:\n",
            "steel: 7\n",
            "aluminium: 5\n",
            "titanium: 1\n",
            "glass: 6\n",
            "wood: 9\n",
            "thermoplastic: 3\n",
            "elastomer: 4\n",
            "thermoset: 2\n",
            "composite: 8\n"
          ]
        }
      ]
    },
    {
      "cell_type": "code",
      "source": [
        "dataset_averages = {\n",
        "    \"steel\": 3.94,\n",
        "    \"aluminium\": 6.37,\n",
        "    \"titanium\": 8.12,\n",
        "    \"glass\": 6.03,\n",
        "    \"wood\": 2.64,\n",
        "    \"thermoplastic\": 5.51,\n",
        "    \"elastomer\": 4.51,\n",
        "    \"thermoset\": 5.28,\n",
        "    \"composite\": 7.27\n",
        "}\n",
        "\n",
        "# AI model's scores from the JSON file\n",
        "file_path = \"./data/json_files/Underwater Component_Corrosion Resistant.json\"\n",
        "with open(file_path, 'r') as json_file:\n",
        "    ai_scores = json.load(json_file)\n",
        "    ai_scores = json.loads(ai_scores)\n",
        "\n",
        "# Difference between AI model scores and dataset averages\n",
        "materials = list(dataset_averages.keys())\n",
        "differences = []\n",
        "for material in materials:\n",
        "    ai_score = ai_scores.get(material, 0)\n",
        "    dataset_avg = dataset_averages[material]\n",
        "    differences.append(ai_score - dataset_avg)\n",
        "\n",
        "\n",
        "plt.figure(figsize=(10, 6))\n",
        "plt.barh(materials, differences, color='skyblue')\n",
        "plt.xlabel('Difference in Scores (AI Model - Dataset Average)')\n",
        "plt.ylabel('Material')\n",
        "plt.title('Difference in Scores: AI Model vs Dataset Average')\n",
        "plt.axvline(0, color='black', linewidth=0.8)\n",
        "plt.grid(True)\n",
        "plt.show()"
      ],
      "metadata": {
        "colab": {
          "base_uri": "https://localhost:8080/",
          "height": 564
        },
        "id": "e0tPpUP7QbUO",
        "outputId": "913fd11b-a8a7-4377-9009-3c275200f2e8"
      },
      "execution_count": 27,
      "outputs": [
        {
          "output_type": "display_data",
          "data": {
            "text/plain": [
              "<Figure size 1000x600 with 1 Axes>"
            ],
            "image/png": "[encoded data removed]"
          },
          "metadata": {}
        }
      ]
    },
    {
      "cell_type": "code",
      "source": [],
      "metadata": {
        "id": "E6TMJb_KQbSK"
      },
      "execution_count": null,
      "outputs": []
    },
    {
      "cell_type": "markdown",
      "source": [
        "# Example for Safety Helmet + High Strength"
      ],
      "metadata": {
        "id": "zmlWKkPvo_hP"
      }
    },
    {
      "cell_type": "code",
      "source": [
        "file_path = \"./data/json_files/Safety Helmet_High Strength.json\"\n",
        "\n",
        "with open(file_path, 'r') as json_file:\n",
        "    rank_data = json.load(json_file)\n",
        "    print(rank_data)\n",
        "    print(type(rank_data))\n",
        "\n",
        "    dict_r = json.loads(rank_data)\n",
        "    print(dict_r)\n",
        "    print(type(dict_r))"
      ],
      "metadata": {
        "colab": {
          "base_uri": "https://localhost:8080/"
        },
        "id": "80ygtD9wpF0i",
        "outputId": "85aa6d73-5992-4d0b-e2f5-bef72b82f0e5"
      },
      "execution_count": 28,
      "outputs": [
        {
          "output_type": "stream",
          "name": "stdout",
          "text": [
            "{\n",
            "    \"design\": \"Safety Helmet\",\n",
            "    \"criterion\": \"High Strength\",\n",
            "    \"steel\": 1,\n",
            "    \"aluminium\": 4,\n",
            "    \"titanium\": 2,\n",
            "    \"glass\": 8,\n",
            "    \"wood\": 9,\n",
            "    \"thermoplastic\": 5,\n",
            "    \"elastomer\": 7,\n",
            "    \"thermoset\": 6,\n",
            "    \"composite\": 3\n",
            "}\n",
            "<class 'str'>\n",
            "{'design': 'Safety Helmet', 'criterion': 'High Strength', 'steel': 1, 'aluminium': 4, 'titanium': 2, 'glass': 8, 'wood': 9, 'thermoplastic': 5, 'elastomer': 7, 'thermoset': 6, 'composite': 3}\n",
            "<class 'dict'>\n"
          ]
        }
      ]
    },
    {
      "cell_type": "code",
      "source": [
        "q16_columns = [col for col in dataset_clean_pd.columns if col.startswith('Q16_')]\n",
        "\n",
        "q16_averages = dataset_clean_pd[q16_columns].mean()\n",
        "\n",
        "q16_averages"
      ],
      "metadata": {
        "colab": {
          "base_uri": "https://localhost:8080/",
          "height": 366
        },
        "id": "-Uj6gofhphjm",
        "outputId": "f6238fe2-6000-4790-8ce2-0c6332683bad"
      },
      "execution_count": 29,
      "outputs": [
        {
          "output_type": "execute_result",
          "data": {
            "text/plain": [
              "Q16_Steel            5.910448\n",
              "Q16_Aluminium        5.955224\n",
              "Q16_Titanium         7.134328\n",
              "Q16_Glass            1.597015\n",
              "Q16_Wood             2.507463\n",
              "Q16_Thermoplastic    5.089552\n",
              "Q16_Elastomer        3.283582\n",
              "Q16_Thermoset        4.835821\n",
              "Q16_Composite        8.388060\n",
              "dtype: float64"
            ],
            "text/html": [
              "<div>\n",
              "<style scoped>\n",
              "    .dataframe tbody tr th:only-of-type {\n",
              "        vertical-align: middle;\n",
              "    }\n",
              "\n",
              "    .dataframe tbody tr th {\n",
              "        vertical-align: top;\n",
              "    }\n",
              "\n",
              "    .dataframe thead th {\n",
              "        text-align: right;\n",
              "    }\n",
              "</style>\n",
              "<table border=\"1\" class=\"dataframe\">\n",
              "  <thead>\n",
              "    <tr style=\"text-align: right;\">\n",
              "      <th></th>\n",
              "      <th>0</th>\n",
              "    </tr>\n",
              "  </thead>\n",
              "  <tbody>\n",
              "    <tr>\n",
              "      <th>Q16_Steel</th>\n",
              "      <td>5.910448</td>\n",
              "    </tr>\n",
              "    <tr>\n",
              "      <th>Q16_Aluminium</th>\n",
              "      <td>5.955224</td>\n",
              "    </tr>\n",
              "    <tr>\n",
              "      <th>Q16_Titanium</th>\n",
              "      <td>7.134328</td>\n",
              "    </tr>\n",
              "    <tr>\n",
              "      <th>Q16_Glass</th>\n",
              "      <td>1.597015</td>\n",
              "    </tr>\n",
              "    <tr>\n",
              "      <th>Q16_Wood</th>\n",
              "      <td>2.507463</td>\n",
              "    </tr>\n",
              "    <tr>\n",
              "      <th>Q16_Thermoplastic</th>\n",
              "      <td>5.089552</td>\n",
              "    </tr>\n",
              "    <tr>\n",
              "      <th>Q16_Elastomer</th>\n",
              "      <td>3.283582</td>\n",
              "    </tr>\n",
              "    <tr>\n",
              "      <th>Q16_Thermoset</th>\n",
              "      <td>4.835821</td>\n",
              "    </tr>\n",
              "    <tr>\n",
              "      <th>Q16_Composite</th>\n",
              "      <td>8.388060</td>\n",
              "    </tr>\n",
              "  </tbody>\n",
              "</table>\n",
              "</div><br><label><b>dtype:</b> float64</label>"
            ]
          },
          "metadata": {},
          "execution_count": 29
        }
      ]
    },
    {
      "cell_type": "code",
      "source": [
        "file_path = \"./data/json_files/Safety Helmet_High Strength.json\"\n",
        "\n",
        "# Load the JSON file\n",
        "with open(file_path, 'r') as json_file:\n",
        "    rank_data = json.load(json_file)\n",
        "\n",
        "    rank_data = json.loads(rank_data)\n",
        "\n",
        "# Extract the scores\n",
        "design = rank_data.get('design', 'N/A')\n",
        "criterion = rank_data.get('criterion', 'N/A')\n",
        "material_scores = {key: value for key, value in rank_data.items() if key not in ['design', 'criterion']}\n",
        "\n",
        "# Display the extracted information\n",
        "print(f\"Design: {design}\")\n",
        "print(f\"Criterion: {criterion}\")\n",
        "print(\"Material Scores:\")\n",
        "for material, score in material_scores.items():\n",
        "    print(f\"{material}: {score}\")\n"
      ],
      "metadata": {
        "colab": {
          "base_uri": "https://localhost:8080/"
        },
        "id": "IHHox0J9phci",
        "outputId": "f34b760b-4805-4d35-eac5-45f500effd63"
      },
      "execution_count": 30,
      "outputs": [
        {
          "output_type": "stream",
          "name": "stdout",
          "text": [
            "Design: Safety Helmet\n",
            "Criterion: High Strength\n",
            "Material Scores:\n",
            "steel: 1\n",
            "aluminium: 4\n",
            "titanium: 2\n",
            "glass: 8\n",
            "wood: 9\n",
            "thermoplastic: 5\n",
            "elastomer: 7\n",
            "thermoset: 6\n",
            "composite: 3\n"
          ]
        }
      ]
    },
    {
      "cell_type": "code",
      "source": [
        "dataset_averages = {\n",
        "    \"steel\": 5.91,\n",
        "    \"aluminium\": 5.95,\n",
        "    \"titanium\": 7.13,\n",
        "    \"glass\": 1.60,\n",
        "    \"wood\": 2.51,\n",
        "    \"thermoplastic\": 5.09,\n",
        "    \"elastomer\": 3.28,\n",
        "    \"thermoset\": 4.84,\n",
        "    \"composite\": 8.39\n",
        "}\n",
        "\n",
        "# AI model's scores from the JSON file\n",
        "file_path = \"./data/json_files/Safety Helmet_High Strength.json\"\n",
        "with open(file_path, 'r') as json_file:\n",
        "    ai_scores = json.load(json_file)\n",
        "    ai_scores = json.loads(ai_scores)\n",
        "\n",
        "# Difference between AI model scores and dataset averages\n",
        "materials = list(dataset_averages.keys())\n",
        "differences = []\n",
        "for material in materials:\n",
        "    ai_score = ai_scores.get(material, 0)\n",
        "    dataset_avg = dataset_averages[material]\n",
        "    differences.append(ai_score - dataset_avg)\n",
        "\n",
        "\n",
        "plt.figure(figsize=(10, 6))\n",
        "plt.barh(materials, differences, color='skyblue')\n",
        "plt.xlabel('Difference in Scores (AI Model - Dataset Average)')\n",
        "plt.ylabel('Material')\n",
        "plt.title('Difference in Scores: AI Model vs Dataset Average')\n",
        "plt.axvline(0, color='black', linewidth=0.8)\n",
        "plt.grid(True)\n",
        "plt.show()"
      ],
      "metadata": {
        "colab": {
          "base_uri": "https://localhost:8080/",
          "height": 564
        },
        "id": "9Al45S6GphXQ",
        "outputId": "9267405e-54fc-46f0-bf28-1e8d5258406c"
      },
      "execution_count": 31,
      "outputs": [
        {
          "output_type": "display_data",
          "data": {
            "text/plain": [
              "<Figure size 1000x600 with 1 Axes>"
            ],
            "image/png": "[encoded data removed]"
          },
          "metadata": {}
        }
      ]
    },
    {
      "cell_type": "code",
      "source": [],
      "metadata": {
        "id": "5TbhpoHssboN"
      },
      "execution_count": null,
      "outputs": []
    }
  ]
}